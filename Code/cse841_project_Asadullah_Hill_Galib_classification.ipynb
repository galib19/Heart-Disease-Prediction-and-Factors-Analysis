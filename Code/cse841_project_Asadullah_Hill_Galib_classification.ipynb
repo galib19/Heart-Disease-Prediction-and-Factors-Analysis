{
 "cells": [
  {
   "cell_type": "code",
   "execution_count": 34,
   "metadata": {},
   "outputs": [
    {
     "data": {
      "text/html": [
       "<div>\n",
       "<style scoped>\n",
       "    .dataframe tbody tr th:only-of-type {\n",
       "        vertical-align: middle;\n",
       "    }\n",
       "\n",
       "    .dataframe tbody tr th {\n",
       "        vertical-align: top;\n",
       "    }\n",
       "\n",
       "    .dataframe thead th {\n",
       "        text-align: right;\n",
       "    }\n",
       "</style>\n",
       "<table border=\"1\" class=\"dataframe\">\n",
       "  <thead>\n",
       "    <tr style=\"text-align: right;\">\n",
       "      <th></th>\n",
       "      <th>age</th>\n",
       "      <th>sex</th>\n",
       "      <th>cp</th>\n",
       "      <th>bp</th>\n",
       "      <th>cholesterol</th>\n",
       "      <th>blood sugar</th>\n",
       "      <th>ecg</th>\n",
       "      <th>heart rate</th>\n",
       "      <th>angina</th>\n",
       "      <th>oldpeak</th>\n",
       "      <th>slope</th>\n",
       "      <th>major vessels</th>\n",
       "      <th>thal</th>\n",
       "      <th>heart attack</th>\n",
       "    </tr>\n",
       "  </thead>\n",
       "  <tbody>\n",
       "    <tr>\n",
       "      <th>0</th>\n",
       "      <td>63</td>\n",
       "      <td>1</td>\n",
       "      <td>3</td>\n",
       "      <td>145</td>\n",
       "      <td>233</td>\n",
       "      <td>1</td>\n",
       "      <td>0</td>\n",
       "      <td>150</td>\n",
       "      <td>0</td>\n",
       "      <td>2.3</td>\n",
       "      <td>0</td>\n",
       "      <td>0</td>\n",
       "      <td>1</td>\n",
       "      <td>1</td>\n",
       "    </tr>\n",
       "    <tr>\n",
       "      <th>1</th>\n",
       "      <td>37</td>\n",
       "      <td>1</td>\n",
       "      <td>2</td>\n",
       "      <td>130</td>\n",
       "      <td>250</td>\n",
       "      <td>0</td>\n",
       "      <td>1</td>\n",
       "      <td>187</td>\n",
       "      <td>0</td>\n",
       "      <td>3.5</td>\n",
       "      <td>0</td>\n",
       "      <td>0</td>\n",
       "      <td>2</td>\n",
       "      <td>1</td>\n",
       "    </tr>\n",
       "    <tr>\n",
       "      <th>2</th>\n",
       "      <td>41</td>\n",
       "      <td>0</td>\n",
       "      <td>1</td>\n",
       "      <td>130</td>\n",
       "      <td>204</td>\n",
       "      <td>0</td>\n",
       "      <td>0</td>\n",
       "      <td>172</td>\n",
       "      <td>0</td>\n",
       "      <td>1.4</td>\n",
       "      <td>2</td>\n",
       "      <td>0</td>\n",
       "      <td>2</td>\n",
       "      <td>1</td>\n",
       "    </tr>\n",
       "    <tr>\n",
       "      <th>3</th>\n",
       "      <td>56</td>\n",
       "      <td>1</td>\n",
       "      <td>1</td>\n",
       "      <td>120</td>\n",
       "      <td>236</td>\n",
       "      <td>0</td>\n",
       "      <td>1</td>\n",
       "      <td>178</td>\n",
       "      <td>0</td>\n",
       "      <td>0.8</td>\n",
       "      <td>2</td>\n",
       "      <td>0</td>\n",
       "      <td>2</td>\n",
       "      <td>1</td>\n",
       "    </tr>\n",
       "    <tr>\n",
       "      <th>4</th>\n",
       "      <td>57</td>\n",
       "      <td>0</td>\n",
       "      <td>0</td>\n",
       "      <td>120</td>\n",
       "      <td>354</td>\n",
       "      <td>0</td>\n",
       "      <td>1</td>\n",
       "      <td>163</td>\n",
       "      <td>1</td>\n",
       "      <td>0.6</td>\n",
       "      <td>2</td>\n",
       "      <td>0</td>\n",
       "      <td>2</td>\n",
       "      <td>1</td>\n",
       "    </tr>\n",
       "    <tr>\n",
       "      <th>...</th>\n",
       "      <td>...</td>\n",
       "      <td>...</td>\n",
       "      <td>...</td>\n",
       "      <td>...</td>\n",
       "      <td>...</td>\n",
       "      <td>...</td>\n",
       "      <td>...</td>\n",
       "      <td>...</td>\n",
       "      <td>...</td>\n",
       "      <td>...</td>\n",
       "      <td>...</td>\n",
       "      <td>...</td>\n",
       "      <td>...</td>\n",
       "      <td>...</td>\n",
       "    </tr>\n",
       "    <tr>\n",
       "      <th>298</th>\n",
       "      <td>57</td>\n",
       "      <td>0</td>\n",
       "      <td>0</td>\n",
       "      <td>140</td>\n",
       "      <td>241</td>\n",
       "      <td>0</td>\n",
       "      <td>1</td>\n",
       "      <td>123</td>\n",
       "      <td>1</td>\n",
       "      <td>0.2</td>\n",
       "      <td>1</td>\n",
       "      <td>0</td>\n",
       "      <td>3</td>\n",
       "      <td>0</td>\n",
       "    </tr>\n",
       "    <tr>\n",
       "      <th>299</th>\n",
       "      <td>45</td>\n",
       "      <td>1</td>\n",
       "      <td>3</td>\n",
       "      <td>110</td>\n",
       "      <td>264</td>\n",
       "      <td>0</td>\n",
       "      <td>1</td>\n",
       "      <td>132</td>\n",
       "      <td>0</td>\n",
       "      <td>1.2</td>\n",
       "      <td>1</td>\n",
       "      <td>0</td>\n",
       "      <td>3</td>\n",
       "      <td>0</td>\n",
       "    </tr>\n",
       "    <tr>\n",
       "      <th>300</th>\n",
       "      <td>68</td>\n",
       "      <td>1</td>\n",
       "      <td>0</td>\n",
       "      <td>144</td>\n",
       "      <td>193</td>\n",
       "      <td>1</td>\n",
       "      <td>1</td>\n",
       "      <td>141</td>\n",
       "      <td>0</td>\n",
       "      <td>3.4</td>\n",
       "      <td>1</td>\n",
       "      <td>2</td>\n",
       "      <td>3</td>\n",
       "      <td>0</td>\n",
       "    </tr>\n",
       "    <tr>\n",
       "      <th>301</th>\n",
       "      <td>57</td>\n",
       "      <td>1</td>\n",
       "      <td>0</td>\n",
       "      <td>130</td>\n",
       "      <td>131</td>\n",
       "      <td>0</td>\n",
       "      <td>1</td>\n",
       "      <td>115</td>\n",
       "      <td>1</td>\n",
       "      <td>1.2</td>\n",
       "      <td>1</td>\n",
       "      <td>1</td>\n",
       "      <td>3</td>\n",
       "      <td>0</td>\n",
       "    </tr>\n",
       "    <tr>\n",
       "      <th>302</th>\n",
       "      <td>57</td>\n",
       "      <td>0</td>\n",
       "      <td>1</td>\n",
       "      <td>130</td>\n",
       "      <td>236</td>\n",
       "      <td>0</td>\n",
       "      <td>0</td>\n",
       "      <td>174</td>\n",
       "      <td>0</td>\n",
       "      <td>0.0</td>\n",
       "      <td>1</td>\n",
       "      <td>1</td>\n",
       "      <td>2</td>\n",
       "      <td>0</td>\n",
       "    </tr>\n",
       "  </tbody>\n",
       "</table>\n",
       "<p>303 rows × 14 columns</p>\n",
       "</div>"
      ],
      "text/plain": [
       "     age  sex  cp   bp  cholesterol  blood sugar  ecg  heart rate  angina  \\\n",
       "0     63    1   3  145          233            1    0         150       0   \n",
       "1     37    1   2  130          250            0    1         187       0   \n",
       "2     41    0   1  130          204            0    0         172       0   \n",
       "3     56    1   1  120          236            0    1         178       0   \n",
       "4     57    0   0  120          354            0    1         163       1   \n",
       "..   ...  ...  ..  ...          ...          ...  ...         ...     ...   \n",
       "298   57    0   0  140          241            0    1         123       1   \n",
       "299   45    1   3  110          264            0    1         132       0   \n",
       "300   68    1   0  144          193            1    1         141       0   \n",
       "301   57    1   0  130          131            0    1         115       1   \n",
       "302   57    0   1  130          236            0    0         174       0   \n",
       "\n",
       "     oldpeak  slope  major vessels  thal  heart attack  \n",
       "0        2.3      0              0     1             1  \n",
       "1        3.5      0              0     2             1  \n",
       "2        1.4      2              0     2             1  \n",
       "3        0.8      2              0     2             1  \n",
       "4        0.6      2              0     2             1  \n",
       "..       ...    ...            ...   ...           ...  \n",
       "298      0.2      1              0     3             0  \n",
       "299      1.2      1              0     3             0  \n",
       "300      3.4      1              2     3             0  \n",
       "301      1.2      1              1     3             0  \n",
       "302      0.0      1              1     2             0  \n",
       "\n",
       "[303 rows x 14 columns]"
      ]
     },
     "execution_count": 34,
     "metadata": {},
     "output_type": "execute_result"
    }
   ],
   "source": [
    "import pandas as pd\n",
    "import numpy as np\n",
    "import matplotlib.pyplot as plt\n",
    "import seaborn as sns\n",
    "import os\n",
    "\n",
    "data = pd.read_csv( 'heart.csv',header='infer' )\n",
    "data.columns = ['age','sex','cp','bp','cholesterol','blood sugar','ecg','heart rate','angina',\n",
    "               'oldpeak','slope','major vessels','thal','heart attack']\n",
    "data"
   ]
  },
  {
   "cell_type": "code",
   "execution_count": 35,
   "metadata": {},
   "outputs": [
    {
     "name": "stdout",
     "output_type": "stream",
     "text": [
      "After standardization:\n"
     ]
    },
    {
     "data": {
      "text/html": [
       "<div>\n",
       "<style scoped>\n",
       "    .dataframe tbody tr th:only-of-type {\n",
       "        vertical-align: middle;\n",
       "    }\n",
       "\n",
       "    .dataframe tbody tr th {\n",
       "        vertical-align: top;\n",
       "    }\n",
       "\n",
       "    .dataframe thead th {\n",
       "        text-align: right;\n",
       "    }\n",
       "</style>\n",
       "<table border=\"1\" class=\"dataframe\">\n",
       "  <thead>\n",
       "    <tr style=\"text-align: right;\">\n",
       "      <th></th>\n",
       "      <th>0</th>\n",
       "      <th>1</th>\n",
       "      <th>2</th>\n",
       "      <th>3</th>\n",
       "      <th>4</th>\n",
       "      <th>5</th>\n",
       "      <th>6</th>\n",
       "      <th>7</th>\n",
       "      <th>8</th>\n",
       "      <th>9</th>\n",
       "      <th>10</th>\n",
       "      <th>11</th>\n",
       "      <th>12</th>\n",
       "    </tr>\n",
       "  </thead>\n",
       "  <tbody>\n",
       "    <tr>\n",
       "      <th>0</th>\n",
       "      <td>0.950624</td>\n",
       "      <td>0.679881</td>\n",
       "      <td>1.969864</td>\n",
       "      <td>0.762694</td>\n",
       "      <td>-0.255910</td>\n",
       "      <td>2.390484</td>\n",
       "      <td>-1.004171</td>\n",
       "      <td>0.015417</td>\n",
       "      <td>-0.69548</td>\n",
       "      <td>1.085542</td>\n",
       "      <td>-2.270822</td>\n",
       "      <td>-0.713249</td>\n",
       "      <td>-2.145324</td>\n",
       "    </tr>\n",
       "    <tr>\n",
       "      <th>1</th>\n",
       "      <td>-1.912150</td>\n",
       "      <td>0.679881</td>\n",
       "      <td>1.000921</td>\n",
       "      <td>-0.092585</td>\n",
       "      <td>0.072080</td>\n",
       "      <td>-0.416945</td>\n",
       "      <td>0.897478</td>\n",
       "      <td>1.630774</td>\n",
       "      <td>-0.69548</td>\n",
       "      <td>2.119067</td>\n",
       "      <td>-2.270822</td>\n",
       "      <td>-0.713249</td>\n",
       "      <td>-0.512075</td>\n",
       "    </tr>\n",
       "    <tr>\n",
       "      <th>2</th>\n",
       "      <td>-1.471723</td>\n",
       "      <td>-1.465992</td>\n",
       "      <td>0.031978</td>\n",
       "      <td>-0.092585</td>\n",
       "      <td>-0.815424</td>\n",
       "      <td>-0.416945</td>\n",
       "      <td>-1.004171</td>\n",
       "      <td>0.975900</td>\n",
       "      <td>-0.69548</td>\n",
       "      <td>0.310399</td>\n",
       "      <td>0.974740</td>\n",
       "      <td>-0.713249</td>\n",
       "      <td>-0.512075</td>\n",
       "    </tr>\n",
       "    <tr>\n",
       "      <th>3</th>\n",
       "      <td>0.179877</td>\n",
       "      <td>0.679881</td>\n",
       "      <td>0.031978</td>\n",
       "      <td>-0.662770</td>\n",
       "      <td>-0.198030</td>\n",
       "      <td>-0.416945</td>\n",
       "      <td>0.897478</td>\n",
       "      <td>1.237849</td>\n",
       "      <td>-0.69548</td>\n",
       "      <td>-0.206364</td>\n",
       "      <td>0.974740</td>\n",
       "      <td>-0.713249</td>\n",
       "      <td>-0.512075</td>\n",
       "    </tr>\n",
       "    <tr>\n",
       "      <th>4</th>\n",
       "      <td>0.289984</td>\n",
       "      <td>-1.465992</td>\n",
       "      <td>-0.936965</td>\n",
       "      <td>-0.662770</td>\n",
       "      <td>2.078611</td>\n",
       "      <td>-0.416945</td>\n",
       "      <td>0.897478</td>\n",
       "      <td>0.582975</td>\n",
       "      <td>1.43311</td>\n",
       "      <td>-0.378618</td>\n",
       "      <td>0.974740</td>\n",
       "      <td>-0.713249</td>\n",
       "      <td>-0.512075</td>\n",
       "    </tr>\n",
       "  </tbody>\n",
       "</table>\n",
       "</div>"
      ],
      "text/plain": [
       "          0         1         2         3         4         5         6  \\\n",
       "0  0.950624  0.679881  1.969864  0.762694 -0.255910  2.390484 -1.004171   \n",
       "1 -1.912150  0.679881  1.000921 -0.092585  0.072080 -0.416945  0.897478   \n",
       "2 -1.471723 -1.465992  0.031978 -0.092585 -0.815424 -0.416945 -1.004171   \n",
       "3  0.179877  0.679881  0.031978 -0.662770 -0.198030 -0.416945  0.897478   \n",
       "4  0.289984 -1.465992 -0.936965 -0.662770  2.078611 -0.416945  0.897478   \n",
       "\n",
       "          7        8         9        10        11        12  \n",
       "0  0.015417 -0.69548  1.085542 -2.270822 -0.713249 -2.145324  \n",
       "1  1.630774 -0.69548  2.119067 -2.270822 -0.713249 -0.512075  \n",
       "2  0.975900 -0.69548  0.310399  0.974740 -0.713249 -0.512075  \n",
       "3  1.237849 -0.69548 -0.206364  0.974740 -0.713249 -0.512075  \n",
       "4  0.582975  1.43311 -0.378618  0.974740 -0.713249 -0.512075  "
      ]
     },
     "execution_count": 35,
     "metadata": {},
     "output_type": "execute_result"
    }
   ],
   "source": [
    "y = data['heart attack']\n",
    "X = data.drop(columns=['heart attack'])\n",
    "\n",
    "# Standardize the X values\n",
    "\n",
    "import math\n",
    "import numpy as np\n",
    "\n",
    "def myMean(vec):\n",
    "    col_means = np.zeros(vec.shape[1])\n",
    "    for col_number in range (vec.shape[1]):\n",
    "        col_means[col_number] = sum(vec[:,col_number])/len(vec[:,col_number])\n",
    "    \n",
    "    return col_means\n",
    "def myStdDev(vec):\n",
    "    avg = myMean(vec)\n",
    "    col_stdevs = np.zeros(vec.shape[1])\n",
    "    for col_number in range (vec.shape[1]):\n",
    "        sum_of_square = sum((vec[i,col_number] - avg[col_number])**2 for i in range(vec.shape[0]))\n",
    "        col_stdevs[col_number] = math.sqrt(sum_of_square/(len(vec[:,col_number])-1))\n",
    "    return col_stdevs\n",
    "def calc_Mean_Stdev(arr):\n",
    "    mean_values = np.zeros( arr.shape[1] )\n",
    "    stdDev_values = np.zeros( arr.shape[1] )\n",
    "\n",
    "    mean_values = myMean(arr) \n",
    "    stdDev_values = myStdDev(arr)\n",
    "    \n",
    "    return(mean_values, stdDev_values)\n",
    "\n",
    "def standardize(arr):\n",
    "    avg = myMean(arr)\n",
    "    stdev = myStdDev(arr)\n",
    "    standardized_array = arr \n",
    "    for col_number in range (arr.shape[1]):\n",
    "        for i in range(arr.shape[0]):\n",
    "            standardized_array[i,col_number] = (arr[i,col_number] - avg[col_number])/stdev[col_number]\n",
    "    return standardized_array\n",
    "\n",
    "X = standardize(X.values)\n",
    "\n",
    "\n",
    "print('After standardization:')\n",
    "pd.DataFrame(X).head()"
   ]
  },
  {
   "cell_type": "code",
   "execution_count": 36,
   "metadata": {},
   "outputs": [
    {
     "name": "stdout",
     "output_type": "stream",
     "text": [
      "Class distribution:\n"
     ]
    },
    {
     "data": {
      "text/plain": [
       "1    165\n",
       "0    138\n",
       "Name: heart attack, dtype: int64"
      ]
     },
     "execution_count": 36,
     "metadata": {},
     "output_type": "execute_result"
    }
   ],
   "source": [
    "print('Class distribution:')\n",
    "y.value_counts()"
   ]
  },
  {
   "cell_type": "code",
   "execution_count": 37,
   "metadata": {},
   "outputs": [
    {
     "name": "stdout",
     "output_type": "stream",
     "text": [
      "Class distribution in training set:\n",
      "1    131\n",
      "0    111\n",
      "Name: heart attack, dtype: int64\n",
      "\n",
      "Class distribution in test set:\n",
      "1    34\n",
      "0    27\n",
      "Name: heart attack, dtype: int64\n"
     ]
    }
   ],
   "source": [
    "from sklearn.model_selection import train_test_split\n",
    "\n",
    "X_train, X_test, Y_train, Y_test = train_test_split(X, y, test_size=0.20, random_state=0)\n",
    "\n",
    "print('Class distribution in training set:')\n",
    "print(Y_train.value_counts())\n",
    "\n",
    "print('\\nClass distribution in test set:')\n",
    "print(Y_test.value_counts())"
   ]
  },
  {
   "cell_type": "code",
   "execution_count": 38,
   "metadata": {},
   "outputs": [],
   "source": [
    "#mandatory import \n",
    "from sklearn.model_selection import cross_validate, RandomizedSearchCV\n",
    "from sklearn.metrics import accuracy_score, f1_score, precision_score, recall_score, roc_auc_score, classification_report\n",
    "from sklearn.ensemble import AdaBoostClassifier, RandomForestClassifier, ExtraTreesClassifier, GradientBoostingClassifier\n",
    "from sklearn.feature_selection import SelectFromModel\n",
    "from sklearn.decomposition import PCA\n",
    "from sklearn.linear_model import LogisticRegression\n",
    "from sklearn.tree import DecisionTreeClassifier\n",
    "from sklearn.neighbors import KNeighborsClassifier\n",
    "from sklearn.naive_bayes import GaussianNB\n",
    "from sklearn.pipeline import make_pipeline\n",
    "from sklearn.ensemble import StackingClassifier\n",
    "from sklearn.svm import SVC, LinearSVC\n",
    "\n",
    "\n",
    "from sklearn.feature_selection import RFE"
   ]
  },
  {
   "cell_type": "code",
   "execution_count": 39,
   "metadata": {},
   "outputs": [],
   "source": [
    "pre = {}\n",
    "rec = {}\n",
    "fs = {}\n",
    "acc = {}\n",
    "auc = {}\n",
    "\n",
    "\n",
    "def clear_metrics(): \n",
    "    pre.clear()\n",
    "    rec.clear()\n",
    "    fs.clear()\n",
    "    acc.clear()\n",
    "    auc.clear()"
   ]
  },
  {
   "cell_type": "code",
   "execution_count": 40,
   "metadata": {},
   "outputs": [],
   "source": [
    "def allscore(scores, model):\n",
    "    acc[model]= scores['test_accuracy'].mean()\n",
    "    fs[model]= scores['test_f1'].mean()\n",
    "    pre[model]=scores['test_precision'].mean()\n",
    "    rec[model]=scores['test_recall'].mean()\n",
    "    auc[model]= scores['test_roc_auc'].mean()\n",
    "    print(\"Accuracy: %0.4f   (+/- %0.4f)\" % (scores['test_accuracy'].mean(), scores['test_accuracy'].std() * 2))\n",
    "    print(\"Precision: %0.4f   (+/- %0.4f)\" % (scores['test_precision'].mean(), scores['test_precision'].std() * 2))\n",
    "    print(\"Recall: %0.4f   (+/- %0.4f)\" % (scores['test_recall'].mean(), scores['test_recall'].std() * 2))\n",
    "    print(\"F-1 Score: %0.4f   (+/- %0.4f)\" % (scores['test_f1'].mean(), scores['test_f1'].std() * 2))\n",
    "    print(\"ROC-AUC: %0.4f   (+/- %0.4f)\" % (scores['test_roc_auc'].mean(), scores['test_roc_auc'].std() * 2))"
   ]
  },
  {
   "cell_type": "code",
   "execution_count": 41,
   "metadata": {},
   "outputs": [
    {
     "name": "stdout",
     "output_type": "stream",
     "text": [
      "Classification Report for Random Forest:   \n",
      "Accuracy: 0.8316   (+/- 0.1052)\n",
      "Precision: 0.8311   (+/- 0.1540)\n",
      "Recall: 0.8779   (+/- 0.1571)\n",
      "F-1 Score: 0.8496   (+/- 0.0969)\n",
      "ROC-AUC: 0.9068   (+/- 0.0991)\n"
     ]
    }
   ],
   "source": [
    "scoring = ['precision', 'recall', 'f1','accuracy','roc_auc']\n",
    "clf = RandomForestClassifier(n_estimators=100, random_state=0, n_jobs=-1)\n",
    "scores = cross_validate(clf, X, y, cv=10, n_jobs=-1,\n",
    "                        scoring=scoring, return_train_score=False)\n",
    "print('Classification Report for Random Forest:   ')\n",
    "allscore(scores, \"Random Forest\")"
   ]
  },
  {
   "cell_type": "code",
   "execution_count": 42,
   "metadata": {},
   "outputs": [
    {
     "name": "stdout",
     "output_type": "stream",
     "text": [
      "Classification Report for SVM:   \n",
      "Accuracy: 0.8282   (+/- 0.1398)\n",
      "Precision: 0.8178   (+/- 0.1390)\n",
      "Recall: 0.8890   (+/- 0.2228)\n",
      "F-1 Score: 0.8464   (+/- 0.1367)\n",
      "ROC-AUC: 0.9054   (+/- 0.0786)\n"
     ]
    }
   ],
   "source": [
    "scoring = ['precision', 'recall', 'f1','accuracy','roc_auc']\n",
    "clf = SVC(C=1, kernel='linear')\n",
    "scores = cross_validate(clf, X, y, cv=10, n_jobs=-1,\n",
    "                        scoring=scoring, return_train_score=False)\n",
    "print('Classification Report for SVM:   ')\n",
    "allscore(scores, \"SVM\")"
   ]
  },
  {
   "cell_type": "code",
   "execution_count": 43,
   "metadata": {},
   "outputs": [
    {
     "name": "stdout",
     "output_type": "stream",
     "text": [
      "Classification Report for ExtraTrees:   \n",
      "Accuracy: 0.8446   (+/- 0.1045)\n",
      "Precision: 0.8559   (+/- 0.1094)\n",
      "Recall: 0.8654   (+/- 0.1991)\n",
      "F-1 Score: 0.8559   (+/- 0.1114)\n",
      "ROC-AUC: 0.9225   (+/- 0.0717)\n"
     ]
    }
   ],
   "source": [
    "scoring = ['precision', 'recall', 'f1','accuracy','roc_auc']\n",
    "clf = ExtraTreesClassifier(n_estimators=100, random_state=0, n_jobs=-1)\n",
    "scores = cross_validate(clf, X, y, cv=10, n_jobs=-1,\n",
    "                        scoring=scoring, return_train_score=False)\n",
    "print('Classification Report for ExtraTrees:   ')\n",
    "allscore(scores, \"Extra Trees\" )"
   ]
  },
  {
   "cell_type": "code",
   "execution_count": 44,
   "metadata": {},
   "outputs": [
    {
     "name": "stdout",
     "output_type": "stream",
     "text": [
      "Classification Report for GradientBoostingClassifier:   \n",
      "Accuracy: 0.7982   (+/- 0.1911)\n",
      "Precision: 0.8083   (+/- 0.1728)\n",
      "Recall: 0.8276   (+/- 0.3364)\n",
      "F-1 Score: 0.8074   (+/- 0.2397)\n",
      "ROC-AUC: 0.8893   (+/- 0.1081)\n"
     ]
    }
   ],
   "source": [
    "scoring = ['precision', 'recall', 'f1','accuracy','roc_auc']\n",
    "clf = GradientBoostingClassifier(n_estimators=100, random_state=0)\n",
    "scores = cross_validate(clf, X, y, cv=10, n_jobs=-1,\n",
    "                        scoring=scoring, return_train_score=False)\n",
    "print('Classification Report for GradientBoostingClassifier:   ')\n",
    "allscore(scores, \"Gradient Boosting\")"
   ]
  },
  {
   "cell_type": "code",
   "execution_count": 45,
   "metadata": {},
   "outputs": [
    {
     "name": "stdout",
     "output_type": "stream",
     "text": [
      "Classification Report for AdaBoostClassifier:   \n",
      "Accuracy: 0.7881   (+/- 0.1783)\n",
      "Precision: 0.7975   (+/- 0.2032)\n",
      "Recall: 0.8287   (+/- 0.1840)\n",
      "F-1 Score: 0.8093   (+/- 0.1641)\n",
      "ROC-AUC: 0.8462   (+/- 0.1772)\n"
     ]
    }
   ],
   "source": [
    "scoring = ['precision', 'recall', 'f1','accuracy','roc_auc']\n",
    "clf = AdaBoostClassifier(n_estimators=100, random_state=0)\n",
    "scores = cross_validate(clf, X, y, cv=10, n_jobs=-1,\n",
    "                        scoring=scoring, return_train_score=False)\n",
    "print('Classification Report for AdaBoostClassifier:   ')\n",
    "allscore(scores, \"AdaBoost\")"
   ]
  },
  {
   "cell_type": "code",
   "execution_count": 46,
   "metadata": {},
   "outputs": [
    {
     "name": "stdout",
     "output_type": "stream",
     "text": [
      "Classification Report for LogisticRegression:   \n",
      "Accuracy: 0.8116   (+/- 0.1312)\n",
      "Precision: 0.8108   (+/- 0.1548)\n",
      "Recall: 0.8654   (+/- 0.2009)\n",
      "F-1 Score: 0.8316   (+/- 0.1253)\n",
      "ROC-AUC: 0.9037   (+/- 0.0989)\n"
     ]
    }
   ],
   "source": [
    "scoring = ['precision', 'recall', 'f1','accuracy','roc_auc']\n",
    "clf = LogisticRegression(penalty='l2', random_state=0)\n",
    "scores = cross_validate(clf, X, y, cv=10, n_jobs=-1,\n",
    "                        scoring=scoring, return_train_score=False)\n",
    "print('Classification Report for LogisticRegression:   ')\n",
    "allscore(scores, \"Logistic Regression\")"
   ]
  },
  {
   "cell_type": "code",
   "execution_count": 47,
   "metadata": {},
   "outputs": [
    {
     "name": "stdout",
     "output_type": "stream",
     "text": [
      "Classification Report for DecisionTreeClassifier:   \n",
      "Accuracy: 0.7786   (+/- 0.1262)\n",
      "Precision: 0.8052   (+/- 0.1637)\n",
      "Recall: 0.8015   (+/- 0.2232)\n",
      "F-1 Score: 0.7956   (+/- 0.1234)\n",
      "ROC-AUC: 0.7802   (+/- 0.1302)\n"
     ]
    }
   ],
   "source": [
    "scoring = ['precision', 'recall', 'f1','accuracy','roc_auc']\n",
    "clf = DecisionTreeClassifier(criterion='entropy', max_depth=10, random_state=0)\n",
    "scores = cross_validate(clf, X, y, cv=10, n_jobs=-1,\n",
    "                        scoring=scoring, return_train_score=False)\n",
    "print('Classification Report for DecisionTreeClassifier:   ')\n",
    "allscore(scores, \"Decision Tree\")"
   ]
  },
  {
   "cell_type": "code",
   "execution_count": 48,
   "metadata": {},
   "outputs": [
    {
     "name": "stdout",
     "output_type": "stream",
     "text": [
      "Classification Report for KNeighborsClassifier:   \n",
      "Accuracy: 0.8184   (+/- 0.1233)\n",
      "Precision: 0.8177   (+/- 0.1331)\n",
      "Recall: 0.8654   (+/- 0.1920)\n",
      "F-1 Score: 0.8363   (+/- 0.1205)\n",
      "ROC-AUC: 0.8754   (+/- 0.1224)\n"
     ]
    }
   ],
   "source": [
    "scoring = ['precision', 'recall', 'f1','accuracy','roc_auc']\n",
    "clf = KNeighborsClassifier(n_neighbors=5)\n",
    "scores = cross_validate(clf, X, y, cv=10, n_jobs=-1,\n",
    "                        scoring=scoring, return_train_score=False)\n",
    "print('Classification Report for KNeighborsClassifier:   ')\n",
    "allscore(scores, \"KNN\")"
   ]
  },
  {
   "cell_type": "code",
   "execution_count": 49,
   "metadata": {},
   "outputs": [
    {
     "name": "stdout",
     "output_type": "stream",
     "text": [
      "Classification Report for GaussianNB:   \n",
      "Accuracy: 0.8051   (+/- 0.1323)\n",
      "Precision: 0.8209   (+/- 0.1559)\n",
      "Recall: 0.8294   (+/- 0.1670)\n",
      "F-1 Score: 0.8216   (+/- 0.1274)\n",
      "ROC-AUC: 0.8897   (+/- 0.0978)\n"
     ]
    }
   ],
   "source": [
    "scoring = ['precision', 'recall', 'f1','accuracy','roc_auc']\n",
    "clf = GaussianNB()\n",
    "scores = cross_validate(clf, X, y, cv=10, n_jobs=-1,\n",
    "                        scoring=scoring, return_train_score=False)\n",
    "print('Classification Report for GaussianNB:   ')\n",
    "allscore(scores, \"Naive Bayes\")"
   ]
  },
  {
   "cell_type": "code",
   "execution_count": 50,
   "metadata": {},
   "outputs": [
    {
     "name": "stdout",
     "output_type": "stream",
     "text": [
      "Classification Report for StackingClassifier:   \n",
      "Accuracy: 0.8448   (+/- 0.1229)\n",
      "Precision: 0.8419   (+/- 0.1706)\n",
      "Recall: 0.8960   (+/- 0.1673)\n",
      "F-1 Score: 0.8624   (+/- 0.1052)\n",
      "ROC-AUC: 0.9185   (+/- 0.0744)\n"
     ]
    }
   ],
   "source": [
    "estimators = [\n",
    "     ('extra',  ExtraTreesClassifier(n_estimators=100, random_state=0, n_jobs=-1)),\n",
    "     ('rf', RandomForestClassifier(n_estimators=100, random_state=0)),\n",
    "    ('lgstc', LogisticRegression(penalty='l2', random_state=0))\n",
    "    \n",
    "]\n",
    "\n",
    "scoring = ['precision', 'recall', 'f1','accuracy','roc_auc']\n",
    "clf = StackingClassifier(estimators=estimators, final_estimator=LogisticRegression())\n",
    "scores = cross_validate(clf, X, y, cv=10, n_jobs=-1,\n",
    "                        scoring=scoring, return_train_score=False)\n",
    "print('Classification Report for StackingClassifier:   ')\n",
    "allscore(scores, \"Stacking Classifier\")"
   ]
  },
  {
   "cell_type": "code",
   "execution_count": 51,
   "metadata": {},
   "outputs": [],
   "source": [
    "def plot_performances(x,y,metric, filename):\n",
    "\n",
    "    x = list(x)\n",
    "    y = list(y)\n",
    "    y = [round(num, 3) for num in y]\n",
    "\n",
    "    fig, ax = plt.subplots(figsize=(13,6))    \n",
    "    width = 0.75 # the width of the bars \n",
    "    ind = np.arange(len(y))  # the x locations for the groups\n",
    "    ax.barh(ind, y, width, color=\"blue\")\n",
    "    ax.set_yticks(ind+width/2)\n",
    "    ax.set_yticklabels(x, minor=False)\n",
    "\n",
    "\n",
    "    for i, v in enumerate(y):\n",
    "        plt.text(v, i, \" \"+str(v), color='black', va='center',)\n",
    "\n",
    "\n",
    "    plt.title('Heart Disease Classification Performance: '+ filename)\n",
    "    plt.xlabel(metric)\n",
    "    plt.ylabel('Model')      \n",
    "    #plt.show()\n",
    "    plt.savefig(os.path.join(filename+'.png'), dpi=300, format='png', bbox_inches='tight') # use format='svg' or 'pdf' for vectorial pictures"
   ]
  },
  {
   "cell_type": "code",
   "execution_count": null,
   "metadata": {},
   "outputs": [],
   "source": []
  },
  {
   "cell_type": "code",
   "execution_count": 52,
   "metadata": {},
   "outputs": [
    {
     "data": {
      "text/plain": [
       "SVC(C=1, kernel='linear')"
      ]
     },
     "execution_count": 52,
     "metadata": {},
     "output_type": "execute_result"
    }
   ],
   "source": [
    "from sklearn.svm import SVC\n",
    "\n",
    "hyperparam = 1 \n",
    "\n",
    "model = SVC(C=hyperparam,kernel='linear')\n",
    "model.fit(X_train, Y_train)"
   ]
  },
  {
   "cell_type": "code",
   "execution_count": 53,
   "metadata": {},
   "outputs": [
    {
     "data": {
      "text/plain": [
       "ExtraTreesClassifier(n_jobs=-1, random_state=0)"
      ]
     },
     "execution_count": 53,
     "metadata": {},
     "output_type": "execute_result"
    }
   ],
   "source": [
    "model = ExtraTreesClassifier(n_estimators=100, random_state=0, n_jobs=-1)\n",
    "model.fit(X_train, Y_train)"
   ]
  },
  {
   "cell_type": "code",
   "execution_count": 60,
   "metadata": {},
   "outputs": [
    {
     "data": {
      "text/plain": [
       "StackingClassifier(estimators=[('extra',\n",
       "                                ExtraTreesClassifier(n_jobs=-1,\n",
       "                                                     random_state=0)),\n",
       "                               ('rf', RandomForestClassifier(random_state=0)),\n",
       "                               ('lgstc', LogisticRegression(random_state=0))],\n",
       "                   final_estimator=ExtraTreesClassifier())"
      ]
     },
     "execution_count": 60,
     "metadata": {},
     "output_type": "execute_result"
    }
   ],
   "source": [
    "estimators = [\n",
    "     ('extra',  ExtraTreesClassifier(n_estimators=100, random_state=0, n_jobs=-1)),\n",
    "     ('rf', RandomForestClassifier(n_estimators=100, random_state=0)),\n",
    "    ('lgstc', LogisticRegression(penalty='l2', random_state=0))\n",
    "    \n",
    "]\n",
    "model = StackingClassifier(estimators=estimators, final_estimator=ExtraTreesClassifier())\n",
    "model.fit(X_train, Y_train)"
   ]
  },
  {
   "cell_type": "code",
   "execution_count": 55,
   "metadata": {},
   "outputs": [
    {
     "name": "stdout",
     "output_type": "stream",
     "text": [
      "Training set accuracy: 1.0\n",
      "\n",
      "Test set accuracy: 0.8524590163934426\n",
      "\n",
      "Test set precision: 0.8378378378378378\n"
     ]
    }
   ],
   "source": [
    "from sklearn.metrics import accuracy_score\n",
    "\n",
    "Y_predTrain = model.predict(X_train)   # Apply model to training set to obtain its predictions\n",
    "Y_predTest = model.predict(X_test)     # Apply model to test set to obtain its predictions\n",
    "\n",
    "print('Training set accuracy:', accuracy_score(Y_train, Y_predTrain))\n",
    "print('\\nTest set accuracy:', accuracy_score(Y_test, Y_predTest))\n",
    "print('\\nTest set precision:', precision_score(Y_test, Y_predTest))\n"
   ]
  },
  {
   "cell_type": "code",
   "execution_count": 56,
   "metadata": {},
   "outputs": [
    {
     "name": "stdout",
     "output_type": "stream",
     "text": [
      "Confusion matrix on training data:\n",
      "     1    0\n",
      "1  131    0\n",
      "0    0  111 \n",
      "\n",
      "Confusion matrix on test data:\n",
      "    1   0\n",
      "1  31   3\n",
      "0   6  21\n"
     ]
    }
   ],
   "source": [
    "from sklearn.metrics import confusion_matrix\n",
    "\n",
    "class_labels = [1, 0]\n",
    "cm = confusion_matrix(Y_train, Y_predTrain, labels=class_labels)\n",
    "cm = pd.DataFrame(cm, columns=class_labels, index=class_labels)\n",
    "print('Confusion matrix on training data:')\n",
    "print(cm, '\\n')\n",
    "\n",
    "cm = confusion_matrix(Y_test, Y_predTest, labels=class_labels)\n",
    "cm = pd.DataFrame(cm, columns=class_labels, index=class_labels)\n",
    "print('Confusion matrix on test data:')\n",
    "print(cm)"
   ]
  },
  {
   "cell_type": "code",
   "execution_count": 57,
   "metadata": {},
   "outputs": [
    {
     "name": "stdout",
     "output_type": "stream",
     "text": [
      "Classification Report for GaussianNB:   \n",
      "Accuracy: 0.8216   (+/- 0.1168)\n",
      "Precision: 0.8050   (+/- 0.1340)\n",
      "Recall: 0.8956   (+/- 0.1680)\n",
      "F-1 Score: 0.8443   (+/- 0.1044)\n",
      "ROC-AUC: 0.9067   (+/- 0.0934)\n"
     ]
    }
   ],
   "source": [
    "from sklearn.discriminant_analysis import LinearDiscriminantAnalysis as LDA\n",
    "\n",
    "scoring = ['precision', 'recall', 'f1','accuracy','roc_auc']\n",
    "clf = LDA(n_components=1)\n",
    "scores = cross_validate(clf, X, y, cv=10, n_jobs=-1,\n",
    "                        scoring=scoring, return_train_score=False)\n",
    "print('Classification Report for GaussianNB:   ')\n",
    "allscore(scores, \"Linear Discriminant Analysis\")"
   ]
  },
  {
   "cell_type": "code",
   "execution_count": 58,
   "metadata": {},
   "outputs": [
    {
     "name": "stdout",
     "output_type": "stream",
     "text": [
      "Classification Report for GaussianNB:   \n",
      "Accuracy: 0.8349   (+/- 0.1391)\n",
      "Precision: 0.8604   (+/- 0.1485)\n",
      "Recall: 0.8423   (+/- 0.1912)\n",
      "F-1 Score: 0.8463   (+/- 0.1319)\n",
      "ROC-AUC: 0.9098   (+/- 0.1081)\n"
     ]
    }
   ],
   "source": [
    "from sklearn.decomposition import PCA\n",
    "\n",
    "pca = PCA(n_components=8, random_state=0)\n",
    "pca.fit(X)\n",
    "X_pca_optimal = pca.transform(X)\n",
    "    \n",
    "scoring = ['precision', 'recall', 'f1','accuracy','roc_auc']\n",
    "clf = ExtraTreesClassifier(n_estimators=100, random_state=0, n_jobs=-1)\n",
    "scores = cross_validate(clf, X_pca_optimal, y, cv=10, n_jobs=-1,\n",
    "                        scoring=scoring, return_train_score=False)\n",
    "print('Classification Report for GaussianNB:   ')\n",
    "allscore(scores, \"Principal Component Analysis\")"
   ]
  },
  {
   "cell_type": "code",
   "execution_count": 61,
   "metadata": {},
   "outputs": [
    {
     "data": {
      "image/png": "[encoded data removed]",
      "text/plain": [
       "<Figure size 936x432 with 1 Axes>"
      ]
     },
     "metadata": {
      "needs_background": "light"
     },
     "output_type": "display_data"
    },
    {
     "data": {
      "image/png": "[encoded data removed]",
      "text/plain": [
       "<Figure size 936x432 with 1 Axes>"
      ]
     },
     "metadata": {
      "needs_background": "light"
     },
     "output_type": "display_data"
    },
    {
     "data": {
      "image/png": "[encoded data removed]",
      "text/plain": [
       "<Figure size 936x432 with 1 Axes>"
      ]
     },
     "metadata": {
      "needs_background": "light"
     },
     "output_type": "display_data"
    },
    {
     "data": {
      "image/png": "[encoded data removed]",
      "text/plain": [
       "<Figure size 936x432 with 1 Axes>"
      ]
     },
     "metadata": {
      "needs_background": "light"
     },
     "output_type": "display_data"
    },
    {
     "data": {
      "image/png": "[encoded data removed]",
      "text/plain": [
       "<Figure size 936x432 with 1 Axes>"
      ]
     },
     "metadata": {
      "needs_background": "light"
     },
     "output_type": "display_data"
    }
   ],
   "source": [
    "plot_performances(acc.keys(), acc.values(),\"Accuracy\", \"Accuracy\")\n",
    "plot_performances(pre.keys(), pre.values(),\"Precision\", \"Precision\")\n",
    "plot_performances(rec.keys(), rec.values(),\"Recall\", \"Recall\")\n",
    "plot_performances(fs.keys(), fs.values(),\"F1 Score\", \"F1 Score\")\n",
    "plot_performances(auc.keys(), auc.values(),\"ROC-AUC\", \"ROC-AUC\")"
   ]
  },
  {
   "cell_type": "code",
   "execution_count": null,
   "metadata": {},
   "outputs": [],
   "source": []
  }
 ],
 "metadata": {
  "kernelspec": {
   "display_name": "Python 3",
   "language": "python",
   "name": "python3"
  },
  "language_info": {
   "codemirror_mode": {
    "name": "ipython",
    "version": 3
   },
   "file_extension": ".py",
   "mimetype": "text/x-python",
   "name": "python",
   "nbconvert_exporter": "python",
   "pygments_lexer": "ipython3",
   "version": "3.8.3"
  }
 },
 "nbformat": 4,
 "nbformat_minor": 4
}
